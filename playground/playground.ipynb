{
 "cells": [
  {
   "cell_type": "code",
   "id": "initial_id",
   "metadata": {
    "collapsed": true,
    "jupyter": {
     "is_executing": true
    }
   },
   "source": [
    "# You are a software engineer. Create python code that can embed xml into pdf (only save it as metadata) and then save the output file.\n",
    "\n",
    "from PyPDF2 import PdfReader, PdfWriter\n",
    "\n",
    "\n",
    "def embed_xml_to_pdf(input_pdf_path, output_pdf_path, xml_metadata):\n",
    "    # Load the input PDF using PyPDF2\n",
    "    reader = PdfReader(input_pdf_path)\n",
    "    writer = PdfWriter()\n",
    "\n",
    "    # Add all pages from the original PDF\n",
    "    for page_num in range(len(reader.pages)):\n",
    "        writer.add_page(reader.pages[page_num])\n",
    "\n",
    "    # Create an output stream for writing the PDF\n",
    "    with open(output_pdf_path, \"wb\") as output_pdf_file:\n",
    "        writer.write(output_pdf_file)\n",
    "\n",
    "    # Add custom XML metadata using pikepdf, allowing overwriting of the input file\n",
    "    with pikepdf.open(output_pdf_path, allow_overwriting_input=True) as pdf:\n",
    "        # Insert XML metadata into the document info\n",
    "        pdf.docinfo['/XMLMetadata'] = xml_metadata\n",
    "        pdf.save(output_pdf_path)\n",
    "\n",
    "\n",
    "# Example usage\n",
    "input_pdf = \"input_file.pdf\"  # Replace with your input PDF file path\n",
    "output_pdf = \"output_file.pdf\"  # Replace with your desired output PDF file path\n",
    "xml_data = \"\"\"<?xml version=\"1.0\" encoding=\"UTF-8\"?>\n",
    "<metadata>\n",
    "    <title>Embedded XML Example</title>\n",
    "    <author>Aurel</author>\n",
    "    <description>This XML data is embedded into the PDF as metadata.</description>\n",
    "</metadata>\"\"\"\n",
    "\n",
    "# Call the function to embed XML into the PDF\n",
    "embed_xml_to_pdf(input_pdf, output_pdf, xml_data)\n",
    "\n",
    "print(f\"PDF with embedded XML metadata saved to {output_pdf}\")\n"
   ],
   "outputs": [],
   "execution_count": null
  },
  {
   "metadata": {},
   "cell_type": "code",
   "outputs": [],
   "execution_count": null,
   "source": [
    "import pikepdf\n",
    "\n",
    "\n",
    "def read_xml_from_pdf(pdf_path):\n",
    "    # Open the PDF file\n",
    "    with pikepdf.open(pdf_path) as pdf:\n",
    "        # Check if '/XMLMetadata' exists in the document info\n",
    "        if '/XMLMetadata' in pdf.docinfo:\n",
    "            xml_metadata = pdf.docinfo['/XMLMetadata']\n",
    "            print(\"XML Metadata found:\\n\")\n",
    "            print(xml_metadata)\n",
    "        else:\n",
    "            print(\"No XML Metadata found in this PDF.\")\n",
    "\n",
    "\n",
    "# Example usage\n",
    "pdf_file = \"output_file.pdf\"  # Replace with your PDF file path containing the embedded XML\n",
    "\n",
    "# Call the function to read XML metadata from the PDF\n",
    "read_xml_from_pdf(pdf_file)"
   ],
   "id": "88171e72748e190f"
  }
 ],
 "metadata": {
  "kernelspec": {
   "display_name": "Python 3",
   "language": "python",
   "name": "python3"
  },
  "language_info": {
   "codemirror_mode": {
    "name": "ipython",
    "version": 2
   },
   "file_extension": ".py",
   "mimetype": "text/x-python",
   "name": "python",
   "nbconvert_exporter": "python",
   "pygments_lexer": "ipython2",
   "version": "2.7.6"
  }
 },
 "nbformat": 4,
 "nbformat_minor": 5
}
